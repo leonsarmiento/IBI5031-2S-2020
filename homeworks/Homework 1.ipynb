{
 "cells": [
  {
   "cell_type": "markdown",
   "metadata": {},
   "source": [
    "## Solutions for the computational experiments in \"Homework 1\" of Abu-Mostafa's \"Learning from Data\" Machine Learning online course.\n",
    "\n",
    "Copyright (C) 2020  Marcelo S. Reis.\n",
    "\n",
    "This program is free software: you can redistribute it and/or modify\n",
    "it under the terms of the GNU General Public License as published by\n",
    "the Free Software Foundation, either version 3 of the License, or\n",
    "(at your option) any later version.\n",
    "\n",
    "This program is distributed in the hope that it will be useful,\n",
    "but WITHOUT ANY WARRANTY; without even the implied warranty of\n",
    "MERCHANTABILITY or FITNESS FOR A PARTICULAR PURPOSE.  See the\n",
    "GNU General Public License for more details.\n",
    "\n",
    "You should have received a copy of the GNU General Public License\n",
    "along with this program.  If not, see <http://www.gnu.org/licenses/>.\n"
   ]
  },
  {
   "cell_type": "markdown",
   "metadata": {},
   "source": [
    "### Exercise 4."
   ]
  },
  {
   "cell_type": "code",
   "execution_count": 1,
   "metadata": {},
   "outputs": [
    {
     "name": "stdout",
     "output_type": "stream",
     "text": [
      "Probability of nu = 0 for a single sample: 0.0003405\n"
     ]
    }
   ],
   "source": [
    "from random import random\n",
    "from scipy import stats\n",
    "\n",
    "mu = 0.55   # Probability of red marble in a single draw\n",
    "N  = 10     # Sample of ten marbles\n",
    "\n",
    "dist = stats.binom(N, mu)\n",
    "\n",
    "# nu = 0 is the probability of getting no red marbles\n",
    "#\n",
    "print('Probability of nu = 0 for a single sample: %.7f' % dist.pmf(0))\n"
   ]
  },
  {
   "cell_type": "markdown",
   "metadata": {},
   "source": [
    "### Exercise 5.\n",
    "\n",
    "To address this exercise, consider that the probability of at least one of 1000 samples having $\\nu = 0$ is equal to one minus the probability of no sample having $\\nu = 0$.\n",
    "\n",
    "The probability of no sample having $\\nu = 0$ is equal to $Pr(\\nu_1 > 0) Pr(\\nu_2 > 0) \\ldots Pr(\\nu_{1000} > 0)$, where $\\nu_i$ is the fraction of red marbles in the $i$-th sample.\n",
    "\n",
    "Therefore, we can solve the exercise by simply computing $1 - Pr(\\nu_1 > 0) Pr(\\nu_2 > 0) \\ldots Pr(\\nu_{1000} > 0)$."
   ]
  },
  {
   "cell_type": "code",
   "execution_count": 2,
   "metadata": {},
   "outputs": [
    {
     "name": "stdout",
     "output_type": "stream",
     "text": [
      "Probability of v = 0 for at least one of 1000 samples: 0.289\n"
     ]
    }
   ],
   "source": [
    "prob = 1 - dist.pmf(0)\n",
    "\n",
    "final = prob\n",
    "for i in range(1,1000):      # first term is already in final variable\n",
    "    final = final * prob\n",
    "\n",
    "print('Probability of v = 0 for at least one of 1000 samples: %.3f' % (1 - final))\n"
   ]
  },
  {
   "cell_type": "markdown",
   "metadata": {},
   "source": [
    "### Exercises 7 and 8.\n",
    "\n",
    "We start defining auxiliary methods to generate a target function and also to draw samples from a domain $\\mathcal{X} = [-1,1] \\times [-1, 1]$:"
   ]
  },
  {
   "cell_type": "code",
   "execution_count": 3,
   "metadata": {},
   "outputs": [],
   "source": [
    "from random import randint\n",
    "\n",
    "# An assistant method for draw of a point in [-1,1]x[-1,1].\n",
    "#\n",
    "def draw_point():\n",
    "    return (random() * (-1) ** randint(0,1), random() * (-1) ** randint(0,1))\n",
    "\n",
    "# This method returns parameter values for a target function f(x1,x2) = a1 x1 + a2 x2 + b.\n",
    "#\n",
    "def generate_target_function():\n",
    "    point_1 = draw_point()\n",
    "    point_2 = draw_point()    \n",
    "    a = (point_1[1] - point_2[1]) / (point_1[0] - point_2[0])\n",
    "    b = point_1[1] - a * point_1[0]\n",
    "    return (a, b)\n",
    "\n",
    "# This method receives a sample size N and parameter values of a target function f. \n",
    "# It returns N pairs of observations ((x1,x2),y), where x1 and x2 are values in \n",
    "# [-1,1] and y is a value in {-1, +1} defined according whether its corresponding\n",
    "# (x1,x2) coordinates fall above or below the target function line. \n",
    "#\n",
    "def generate_data(N, a, b):\n",
    "    D = []\n",
    "    for _ in range(0,N):\n",
    "        x1 = random() * (-1) ** randint(0,1)\n",
    "        x2 = random() * (-1) ** randint(0,1)\n",
    "        y = +1\n",
    "        if ( x2 <  (a * x1 + b)):\n",
    "            y = -1\n",
    "        D.insert(0,(x1, x2, y))\n",
    "    return D"
   ]
  },
  {
   "cell_type": "markdown",
   "metadata": {},
   "source": [
    "Let us test the two methods defined above:"
   ]
  },
  {
   "cell_type": "code",
   "execution_count": 4,
   "metadata": {},
   "outputs": [
    {
     "data": {
      "image/png": "[encoded data removed]",
      "text/plain": [
       "<Figure size 432x288 with 1 Axes>"
      ]
     },
     "metadata": {},
     "output_type": "display_data"
    }
   ],
   "source": [
    "%matplotlib inline\n",
    "import numpy as np\n",
    "import matplotlib.pyplot as plt\n",
    "\n",
    "# This method receives a sample D, parameter values of a function and\n",
    "# plots a graph in which each point is painted according to its location\n",
    "# in respect to the function.\n",
    "#\n",
    "def plot_sample(D, a, b):\n",
    "    label_color = []               # +1 and -1 must be painted with 'r' and 'b', respectively.\n",
    "    for i in range(0,len(D)):\n",
    "        if D[i][2] == 1:\n",
    "            label_color.append('r')\n",
    "        else:\n",
    "            label_color.append('b')\n",
    "    plt.xlim(-1,1)\n",
    "    plt.ylim(-1,1)\n",
    "    plt.scatter(list(zip(*D))[0],list(zip(*D))[1],c=label_color)\n",
    "    plt.plot(np.linspace(-1, 1, 10), a * np.linspace(-1, 1, 10) + b, c= \"yellow\")\n",
    "    plt.xlabel('x1')\n",
    "    plt.ylabel('x2')\n",
    "    plt.show()\n",
    "\n",
    "(a, b) = generate_target_function()\n",
    "\n",
    "D = generate_data(100, a, b)\n",
    "\n",
    "plot_sample(D, a, b)\n"
   ]
  },
  {
   "cell_type": "markdown",
   "metadata": {},
   "source": [
    "Now, we implement a Perceptron Learning Algorithm (PLA) for problems with dimension $d = 2$:"
   ]
  },
  {
   "cell_type": "code",
   "execution_count": 5,
   "metadata": {},
   "outputs": [],
   "source": [
    "# PLA receives a sample D with N points and returns the estimated weights w0, w1 and w2.\n",
    "# It also returns the number n of iterations required to finish the procedure.\n",
    "#\n",
    "def PLA (D):\n",
    "    N = len(D)\n",
    "    w0 = w1 = w2 = n = 0\n",
    "    misclassified = True\n",
    "    while (misclassified == True):\n",
    "        misclassified = False\n",
    "        for i in range(0,N):\n",
    "            x1 = D[i][0]\n",
    "            x2 = D[i][1]\n",
    "            y  = D[i][2]\n",
    "            dot_prod = w2 * x2 + w1 * x1 + w0\n",
    "            if not ( ((y == 1) and (dot_prod > 0)) or ((y == -1) and (dot_prod < 0)) ):\n",
    "                w2 = w2 + y * x2\n",
    "                w1 = w1 + y * x1\n",
    "                w0 = w0 + y * 1\n",
    "                misclassified = True\n",
    "                n += 1\n",
    "    return (w0, w1, w2, n)"
   ]
  },
  {
   "cell_type": "markdown",
   "metadata": {},
   "source": [
    "Finally, we can run 1000 times an experiment with $N = 1000$:"
   ]
  },
  {
   "cell_type": "code",
   "execution_count": 6,
   "metadata": {
    "scrolled": true
   },
   "outputs": [
    {
     "name": "stdout",
     "output_type": "stream",
     "text": [
      "For N = 10, on average, it takes (in number of iterations) for PLA to converge:\n",
      "Mean = 10.17\n",
      "Deviation = 19.29\n",
      "\n",
      "For N = 10, on average, Pr[f(x) != g(x)]:\n",
      "Mean = 0.10\n",
      "Deviation = 0.12\n"
     ]
    }
   ],
   "source": [
    "import statistics as stat\n",
    "\n",
    "# Method that receives the number of runs k and the sample size N of each run.\n",
    "# For each run, it generates a target function f, draws N samples using it and estimates an approximation\n",
    "# g of f by applying the sample into PLA. For each run, it also estimates the out-of-sample error.\n",
    "# Finally, it returns, for each run, the required number of iterations by PLA and also the \n",
    "# out-of-sample error of that run.\n",
    "#\n",
    "def run_PLA_experiment(k, N):\n",
    "    \n",
    "    n_iter = []  # number of iterations of the i-th experiment.\n",
    "\n",
    "    Eout   = []  # out-of-sample error of the i-th experiment.\n",
    "\n",
    "    for _ in range(0,k):\n",
    "\n",
    "        (a, b) = generate_target_function()\n",
    "\n",
    "        D  = generate_data(N, a, b)\n",
    "\n",
    "        (w0,w1,w2,n) = PLA(D)    \n",
    "\n",
    "        n_iter.append(n)\n",
    "    \n",
    "        test_sample = generate_data(1000, a, b) # test sample for estimation of Eout\n",
    "\n",
    "        misclassified = 0\n",
    "\n",
    "        for i in range(0,N):\n",
    "            x1 = test_sample[i][0]\n",
    "            x2 = test_sample[i][1]\n",
    "            dot_prod = w2 * x2 + w1 * x1 + w0\n",
    "            if ((dot_prod > 0) and (test_sample[i][2] < 0)) or ((dot_prod < 0) and (test_sample[i][2] > 0)):\n",
    "                misclassified += 1\n",
    "            \n",
    "        Eout.append(misclassified / N)\n",
    "\n",
    "    return (n_iter, Eout)\n",
    "\n",
    "\n",
    "(n_iter, Eout) = run_PLA_experiment(1000, 10)\n",
    "    \n",
    "mean   = stat.mean(n_iter)\n",
    "stddev = stat.stdev(n_iter)\n",
    "\n",
    "print('For N = 10, on average, it takes (in number of iterations) for PLA to converge:')\n",
    "print('Mean = %.2f' % mean)\n",
    "print('Deviation = %.2f\\n' % stddev)\n",
    " \n",
    "mean   = stat.mean(Eout)\n",
    "stddev = stat.stdev(Eout)\n",
    "\n",
    "print('For N = 10, on average, Pr[f(x) != g(x)]:')\n",
    "print('Mean = %.2f' % mean)\n",
    "print('Deviation = %.2f' % stddev)"
   ]
  },
  {
   "cell_type": "markdown",
   "metadata": {},
   "source": [
    "### Exercises 9 and 10."
   ]
  },
  {
   "cell_type": "code",
   "execution_count": 7,
   "metadata": {},
   "outputs": [
    {
     "name": "stdout",
     "output_type": "stream",
     "text": [
      "For N = 100, on average, it takes (in number of iterations) for PLA to converge:\n",
      "Mean = 199.49\n",
      "Deviation = 1226.90\n",
      "\n",
      "For N = 100, on average, Pr[f(x) != g(x)]:\n",
      "Mean = 0.01\n",
      "Deviation = 0.02\n"
     ]
    }
   ],
   "source": [
    "(n_iter, Eout) = run_PLA_experiment(1000, 100)\n",
    "    \n",
    "mean   = stat.mean(n_iter)\n",
    "stddev = stat.stdev(n_iter)\n",
    "\n",
    "print('For N = 100, on average, it takes (in number of iterations) for PLA to converge:')\n",
    "print('Mean = %.2f' % mean)\n",
    "print('Deviation = %.2f\\n' % stddev)\n",
    " \n",
    "mean   = stat.mean(Eout)\n",
    "stddev = stat.stdev(Eout)\n",
    "\n",
    "print('For N = 100, on average, Pr[f(x) != g(x)]:')\n",
    "print('Mean = %.2f' % mean)\n",
    "print('Deviation = %.2f' % stddev)"
   ]
  }
 ],
 "metadata": {
  "kernelspec": {
   "display_name": "Python 3",
   "language": "python",
   "name": "python3"
  },
  "language_info": {
   "codemirror_mode": {
    "name": "ipython",
    "version": 3
   },
   "file_extension": ".py",
   "mimetype": "text/x-python",
   "name": "python",
   "nbconvert_exporter": "python",
   "pygments_lexer": "ipython3",
   "version": "3.6.9"
  }
 },
 "nbformat": 4,
 "nbformat_minor": 2
}
