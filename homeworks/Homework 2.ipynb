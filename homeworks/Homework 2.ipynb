{
 "cells": [
  {
   "cell_type": "markdown",
   "metadata": {},
   "source": [
    "## Solutions for the computational experiments in \"Homework 2\" of Abu-Mostafa's \"Learning from Data\" Machine Learning online course.\n",
    "\n",
    "Copyright (C) 2020 Marcelo S. Reis.\n",
    "\n",
    "This program is free software: you can redistribute it and/or modify it under the terms of the GNU General Public License as published by the Free Software Foundation, either version 3 of the License, or (at your option) any later version.\n",
    "\n",
    "This program is distributed in the hope that it will be useful, but WITHOUT ANY WARRANTY; without even the implied warranty of MERCHANTABILITY or FITNESS FOR A PARTICULAR PURPOSE. See the GNU General Public License for more details.\n",
    "\n",
    "You should have received a copy of the GNU General Public License along with this program. If not, see http://www.gnu.org/licenses/."
   ]
  },
  {
   "cell_type": "markdown",
   "metadata": {},
   "source": [
    "### Exercises 1 and 2."
   ]
  },
  {
   "cell_type": "code",
   "execution_count": 1,
   "metadata": {},
   "outputs": [
    {
     "name": "stdout",
     "output_type": "stream",
     "text": [
      "For 100 executions the average of vmin is:\n",
      "mean vmin = 0.04\n",
      "dev vmin = 0.05\n",
      "\n",
      "\n",
      "For 100 executions the average of v1 is:\n",
      "mean v1 = 0.48\n",
      "dev v1 = 0.14\n",
      "\n",
      "\n",
      "For 100 executions the average of vrand is:\n",
      "mean rand = 0.49\n",
      "dev vrand = 0.13\n"
     ]
    }
   ],
   "source": [
    "from random import randint\n",
    "import statistics as stat\n",
    "\n",
    "# This method receives the number of flips per coin and the number of coins.\n",
    "# For each coin, it draws the given number of flips and counts the number of heads.\n",
    "# It returns the fraction of heads of the first coin (index 0 in the coin array), the \n",
    "# fraction of heads of a random coin and also a minimum fraction of heads among all coins.\n",
    "#\n",
    "def run_experiment(number_of_coins, number_of_flips):\n",
    "\n",
    "    coin = []\n",
    "    \n",
    "    for i in range(0, number_of_coins):\n",
    "        coin.insert(0,0)\n",
    "        \n",
    "    cmin_value = 10\n",
    "        \n",
    "    for i in range(0, number_of_coins):\n",
    "        \n",
    "        frac_heads = 0\n",
    "        \n",
    "        for j in range(0, number_of_flips):    # N coin flips\n",
    "            frac_heads += randint(0,1) / number_of_flips\n",
    "        \n",
    "        if (frac_heads < cmin_value):\n",
    "            cmin_value = frac_heads\n",
    "        \n",
    "        coin[i] = frac_heads\n",
    "\n",
    "    crand_index = randint(0, number_of_coins-1)   # we take a random coin index\n",
    "\n",
    "    return (coin[0], coin[crand_index], cmin_value)\n",
    "\n",
    "\n",
    "# This method receives a sample size N, a number of coins, a number of flips and \n",
    "# generates three samples of size N each, D_{c1}, D_{crand} and D_{cmin}, which\n",
    "# correspond to observations of v1, vrand and vmin, respectively.\n",
    "# Those samples are returned in three lists.\n",
    "#\n",
    "def generate_coins_samples(N, number_of_coins, number_of_flips):\n",
    "    D_v1    = []\n",
    "    D_vrand = []\n",
    "    D_vmin  = []\n",
    "        \n",
    "    for _ in range(0,N):    \n",
    "        (v1, vrand, vmin) = run_experiment(number_of_coins, number_of_flips)\n",
    "\n",
    "        D_v1.insert(0,v1)\n",
    "        D_vrand.insert(0,vrand)\n",
    "        D_vmin.insert(0,vmin)\n",
    "    \n",
    "    return (D_v1, D_vrand, D_vmin)\n",
    "    \n",
    "    \n",
    "\n",
    "number_of_flips = 10        # number of coin flips\n",
    "number_of_coins = 1000      # number of coins\n",
    "N               = 100      # number of experiments\n",
    "\n",
    "(D_v1, D_vrand, D_vmin) = generate_coins_samples(N, number_of_coins, number_of_flips)\n",
    "\n",
    "\n",
    "mean_vmin = stat.mean(D_vmin)\n",
    "stddev_vmin = stat.stdev(D_vmin)\n",
    "\n",
    "print('For ' + str(N) + ' executions the average of vmin is:')\n",
    "print('mean vmin = %.2f' % mean_vmin)\n",
    "print('dev vmin = %.2f' % stddev_vmin)\n",
    "print('\\n')\n",
    "\n",
    "mean_v1 = stat.mean(D_v1)\n",
    "stddev_v1 = stat.stdev(D_v1)\n",
    "\n",
    "print('For ' + str(N) + ' executions the average of v1 is:')\n",
    "print('mean v1 = %.2f' % mean_v1)\n",
    "print('dev v1 = %.2f' % stddev_v1)\n",
    "print('\\n')\n",
    "\n",
    "mean_vrand = stat.mean(D_vrand)\n",
    "stddev_vrand = stat.stdev(D_vrand)\n",
    "\n",
    "print('For ' + str(N) + ' executions the average of vrand is:')\n",
    "print('mean rand = %.2f' % mean_vrand)\n",
    "print('dev vrand = %.2f' % stddev_vrand)\n",
    "\n"
   ]
  },
  {
   "cell_type": "markdown",
   "metadata": {},
   "source": [
    "In Exercise 2, it is asked to assess, for each coin, whether its distribution satifies the Hoeffding inequality, which is defined as:\n",
    "\n",
    "$Pr(|\\nu - \\mu| > \\epsilon) \\le 2 e^{-2 \\epsilon^2 N}$."
   ]
  },
  {
   "cell_type": "code",
   "execution_count": 2,
   "metadata": {},
   "outputs": [
    {
     "name": "stdout",
     "output_type": "stream",
     "text": [
      "For all distributions:\n",
      "# v = 0, # v = 0.1, # v = 0.2, ..., # v = 0.9, # v = 1.0\n",
      "\n",
      "\n",
      "vmin distribution:\n",
      "59 41 0 0 0 0 0 0 0 0 0 \n",
      "\n",
      "v1 distribution:\n",
      "0 0 4 15 21 29 16 15 0 0 0 \n",
      "\n",
      "vrand distribution:\n",
      "0 0 2 12 25 29 19 13 0 0 0 \n",
      "\n"
     ]
    }
   ],
   "source": [
    "dist_min  = []\n",
    "dist_v1   = []\n",
    "dist_rand = []\n",
    "\n",
    "# Once number_of_flips = 10, we can assess the distributions by simply creating a histogram,\n",
    "# where the first position is the number of occurrences of v = 0, the second the number of\n",
    "# occurrences of v = 0.1, and so forth, until the last position, which counts the number of \n",
    "# occurrences of v = 1.0.\n",
    "#\n",
    "for i in range(0, number_of_flips + 1):\n",
    "    dist_min.insert(0,0)\n",
    "    dist_v1.insert(0,0)\n",
    "    dist_rand.insert(0,0)\n",
    "    \n",
    "for i in range(0, N):\n",
    "    dist_min[int(D_vmin[i] * number_of_flips)] += 1\n",
    "    dist_v1[int(D_v1[i] * number_of_flips)] += 1\n",
    "    dist_rand[int(D_vrand[i] * number_of_flips)] += 1\n",
    "\n",
    "print ('For all distributions:')\n",
    "print ('# v = 0, # v = 0.1, # v = 0.2, ..., # v = 0.9, # v = 1.0')\n",
    "print ('\\n')\n",
    "    \n",
    "print ('vmin distribution:')\n",
    "for i in range(0, number_of_flips + 1):\n",
    "    print(dist_min[i], end=\" \")\n",
    "print('\\n')\n",
    "print ('v1 distribution:')\n",
    "for i in range(0, number_of_flips + 1):\n",
    "    print(dist_v1[i], end=\" \")\n",
    "print('\\n')\n",
    "\n",
    "print ('vrand distribution:')\n",
    "for i in range(0, number_of_flips + 1):\n",
    "    print(dist_rand[i], end=\" \")\n",
    "print('\\n')\n",
    "\n"
   ]
  },
  {
   "cell_type": "markdown",
   "metadata": {},
   "source": [
    "### Exercises 5 and 6.\n",
    "\n",
    "We start here repeating the assistant methods that we used for PLA in the previous Homework."
   ]
  },
  {
   "cell_type": "code",
   "execution_count": 3,
   "metadata": {},
   "outputs": [],
   "source": [
    "from random import randint\n",
    "from random import random\n",
    "\n",
    "\n",
    "# An assistant method for draw of a point in [-1,1]x[-1,1].\n",
    "#\n",
    "def draw_point():\n",
    "    return (random() * (-1) ** randint(0,1), random() * (-1) ** randint(0,1))\n",
    "\n",
    "# This method returns parameter values for a target function f(x1,x2) = a1 x1 + a2 x2 + b.\n",
    "#\n",
    "def generate_target_function():\n",
    "    point_1 = draw_point()\n",
    "    point_2 = draw_point()    \n",
    "    a = (point_1[1] - point_2[1]) / (point_1[0] - point_2[0])\n",
    "    b = point_1[1] - a * point_1[0]\n",
    "    return (a, b)\n",
    "\n",
    "# This method receives a sample size N and parameter values of a target function f. \n",
    "# It returns N pairs of observations ((x1,x2),y), where x1 and x2 are values in \n",
    "# [-1,1] and y is a value in {-1, +1} defined according whether its corresponding\n",
    "# (x1,x2) coordinates fall above or below the target function line. \n",
    "#\n",
    "def generate_data(N, a, b):\n",
    "    D = []\n",
    "    for _ in range(0,N):\n",
    "        x1 = random() * (-1) ** randint(0,1)\n",
    "        x2 = random() * (-1) ** randint(0,1)\n",
    "        y = +1\n",
    "        if ( x2 <  (a * x1 + b)):\n",
    "            y = -1\n",
    "        D.insert(0,(x1, x2, y))\n",
    "    return D"
   ]
  },
  {
   "cell_type": "markdown",
   "metadata": {},
   "source": [
    "Let us test the two methods defined above:"
   ]
  },
  {
   "cell_type": "code",
   "execution_count": 4,
   "metadata": {
    "scrolled": true
   },
   "outputs": [
    {
     "data": {
      "image/png": "[encoded data removed]",
      "text/plain": [
       "<Figure size 432x288 with 1 Axes>"
      ]
     },
     "metadata": {},
     "output_type": "display_data"
    }
   ],
   "source": [
    "%matplotlib inline\n",
    "import numpy as np\n",
    "import matplotlib.pyplot as plt\n",
    "\n",
    "# This method receives a sample D, parameter values of a function and\n",
    "# plots a graph in which each point is painted according to its location\n",
    "# in respect to the function.\n",
    "#\n",
    "def plot_sample(D, a, b):\n",
    "    label_color = []               # +1 and -1 must be painted with 'r' and 'b', respectively.\n",
    "    for i in range(0,len(D)):\n",
    "        if D[i][2] == 1:\n",
    "            label_color.append('r')\n",
    "        else:\n",
    "            label_color.append('b')\n",
    "    plt.xlim(-1,1)\n",
    "    plt.ylim(-1,1)\n",
    "    plt.scatter(list(zip(*D))[0],list(zip(*D))[1],c=label_color)\n",
    "    plt.plot(np.linspace(-1, 1, 10), a * np.linspace(-1, 1, 10) + b, c= \"yellow\")\n",
    "    plt.xlabel('x1')\n",
    "    plt.ylabel('x2')\n",
    "    plt.show()\n",
    "\n",
    "(a, b) = generate_target_function()\n",
    "\n",
    "D = generate_data(100, a, b)\n",
    "\n",
    "plot_sample(D, a, b)\n"
   ]
  },
  {
   "cell_type": "markdown",
   "metadata": {},
   "source": [
    "Now, we implement a Linear Regression Algorithm (LRA) for problems with dimension $d = 2$:"
   ]
  },
  {
   "cell_type": "code",
   "execution_count": 5,
   "metadata": {},
   "outputs": [
    {
     "data": {
      "image/png": "[encoded data removed]",
      "text/plain": [
       "<Figure size 432x288 with 1 Axes>"
      ]
     },
     "metadata": {},
     "output_type": "display_data"
    }
   ],
   "source": [
    "# LRA receives a sample D with N points and returns the estimated weights w0, w1 and w2.\n",
    "#\n",
    "def LRA (D):\n",
    "    N = len(D)\n",
    "    X = []\n",
    "    for i in range(0, N):\n",
    "        point = [1]                          # first position of the row is x0\n",
    "        for j in range(0,len(D[i])-1):       # last position of D[i] is the label, thus we skip it\n",
    "            point.insert(len(point),D[i][j])\n",
    "        \n",
    "        X.insert(0, point)\n",
    "    \n",
    "    X_pinv = np.linalg.pinv(X)\n",
    "    \n",
    "    y = []\n",
    "    for i in range(0, N):\n",
    "        y.insert(0, D[i][-1])  # -1 in Python is the index of the last position of the row, which here is y\n",
    "\n",
    "    w = np.matmul(X_pinv,y)\n",
    "    \n",
    "    return (w)\n",
    "\n",
    "# A single run to see if everything is ok:\n",
    "#\n",
    "(a, b) = generate_target_function()\n",
    "D  = generate_data(100, a, b)\n",
    "\n",
    "(w0, w1, w2) = LRA(D)\n",
    "\n",
    "plot_sample(D, -w1/w2, -w0/w2)"
   ]
  },
  {
   "cell_type": "markdown",
   "metadata": {},
   "source": [
    "Now we use LRA for linear classification and assess the in-sample and the out-of-sample errors."
   ]
  },
  {
   "cell_type": "code",
   "execution_count": 6,
   "metadata": {},
   "outputs": [
    {
     "name": "stdout",
     "output_type": "stream",
     "text": [
      "For N = 100, on average, Ein(g):\n",
      "Mean = 0.0398\n",
      "Deviation = 0.0295\n",
      "For N = 100, on average, Eout(g):\n",
      "Mean = 0.0491\n",
      "Deviation = 0.0324\n"
     ]
    }
   ],
   "source": [
    "import statistics as stat\n",
    "\n",
    "# Method that receives the number of runs k and the sample size N of each run.\n",
    "# For each run, it generates a target function f, draws N samples using it and estimates an \n",
    "# approximation g of f by applying the sample into LRA. It returns, for each run, the in-sample \n",
    "# and the out-of-sample error of that run.\n",
    "#\n",
    "def run_LRA_experiment(k, N):\n",
    "    \n",
    "    Ein  = []  # in-sample error of the i-th experiment.\n",
    "\n",
    "    Eout = []  # out-of-sample error of the i-th experiment.\n",
    "    \n",
    "    test_sample_size = 1000\n",
    "\n",
    "    for _ in range(0, k):\n",
    "\n",
    "        (a, b) = generate_target_function()\n",
    "\n",
    "        D  = generate_data(N, a, b)\n",
    "\n",
    "        (w0,w1,w2) = LRA(D)    \n",
    "    \n",
    "        # First, we compute the Ein of this iteration:\n",
    "        #\n",
    "        misclassified = 0\n",
    "        \n",
    "        for i in range(0, len(D)):\n",
    "            x1 = D[i][0]\n",
    "            x2 = D[i][1]\n",
    "            dot_prod = w2 * x2 + w1 * x1 + w0\n",
    "            if ((dot_prod > 0) and (D[i][2] < 0)) or ((dot_prod < 0) and (D[i][2] > 0)):\n",
    "                misclassified += 1\n",
    "\n",
    "        Ein.append(misclassified / N)\n",
    "        \n",
    "        # Now we generate a test sample and compute the Eout:\n",
    "        #\n",
    "        test_sample = generate_data(test_sample_size, a, b) # test sample for estimation of Eout\n",
    "\n",
    "        misclassified = 0\n",
    "\n",
    "        for i in range(0, test_sample_size):\n",
    "            x1 = test_sample[i][0]\n",
    "            x2 = test_sample[i][1]\n",
    "            dot_prod = w2 * x2 + w1 * x1 + w0\n",
    "            if ((dot_prod > 0) and (test_sample[i][2] < 0)) or ((dot_prod < 0) and (test_sample[i][2] > 0)):\n",
    "                misclassified += 1\n",
    "            \n",
    "        Eout.append(misclassified / test_sample_size)\n",
    "\n",
    "    return (Ein, Eout)\n",
    "\n",
    "\n",
    "(Ein, Eout) = run_LRA_experiment(1000, 100)\n",
    "\n",
    "mean   = stat.mean(Ein)\n",
    "stddev = stat.stdev(Ein)\n",
    "\n",
    "print('For N = 100, on average, Ein(g):')\n",
    "print('Mean = %.4f' % mean)\n",
    "print('Deviation = %.4f' % stddev)\n",
    "\n",
    "mean   = stat.mean(Eout)\n",
    "stddev = stat.stdev(Eout)\n",
    "\n",
    "print('For N = 100, on average, Eout(g):')\n",
    "print('Mean = %.4f' % mean)\n",
    "print('Deviation = %.4f' % stddev)\n"
   ]
  },
  {
   "cell_type": "markdown",
   "metadata": {},
   "source": [
    "### Exercise 7."
   ]
  },
  {
   "cell_type": "code",
   "execution_count": 7,
   "metadata": {},
   "outputs": [
    {
     "name": "stdout",
     "output_type": "stream",
     "text": [
      "For 100 runs the average number of iterations is:\n",
      "Mean = 4.36\n",
      "Deviation = 12.05\n"
     ]
    }
   ],
   "source": [
    "# PLA receives a sample D with N points and returns the estimated weights w0, w1 and w2.\n",
    "# It also returns the number n of iterations required to finish the procedure.\n",
    "# This version uses LRA for weights initialization.\n",
    "#\n",
    "def PLA (D):\n",
    "    N = len(D)\n",
    "    n = 0\n",
    "    (w0, w1, w2) = LRA(D)\n",
    "    misclassified = True\n",
    "    while (misclassified == True):\n",
    "        misclassified = False\n",
    "        for i in range(0,N):\n",
    "            x1 = D[i][0]\n",
    "            x2 = D[i][1]\n",
    "            y  = D[i][2]\n",
    "            dot_prod = w2 * x2 + w1 * x1 + w0\n",
    "            if not ( ((y == 1) and (dot_prod > 0)) or ((y == -1) and (dot_prod < 0)) ):\n",
    "                w2 = w2 + y * x2\n",
    "                w1 = w1 + y * x1\n",
    "                w0 = w0 + y * 1\n",
    "                misclassified = True\n",
    "                n += 1\n",
    "    return (w0, w1, w2, n)\n",
    "\n",
    "import statistics as stat\n",
    "\n",
    "iterations = []\n",
    "\n",
    "N = 10       # number of points in a sample.\n",
    "\n",
    "k = 100      # number of runs.\n",
    "\n",
    "for _ in range(0, k):\n",
    "    (a, b) = generate_target_function()\n",
    "    D = generate_data(N, a, b)\n",
    "    (w0, w1, w2,n) = PLA(D)\n",
    "    iterations.insert(0,n)\n",
    "\n",
    "mean = stat.mean(iterations)\n",
    "stddev = stat.stdev(iterations)\n",
    "\n",
    "print('For ' + str(k) + ' runs the average number of iterations is:')\n",
    "print('Mean = %.2f' % mean)\n",
    "print('Deviation = %.2f' % stddev)"
   ]
  },
  {
   "cell_type": "markdown",
   "metadata": {},
   "source": [
    "### Exercises 8, 9 and 10.\n",
    "\n",
    "In these exercises, we play with nonlinear transformations. We start with exercise 8, where we try to use LRA to classify nonlinear, noisy data:"
   ]
  },
  {
   "cell_type": "code",
   "execution_count": 8,
   "metadata": {},
   "outputs": [
    {
     "name": "stdout",
     "output_type": "stream",
     "text": [
      "For 100 executions the average Ein(g) is:\n",
      "Mean = 0.4967\n",
      "Deviation = 0.0405\n"
     ]
    }
   ],
   "source": [
    "from random import random\n",
    "\n",
    "# Generates and returns N nonlinear data points with stochastic noise.\n",
    "#\n",
    "def generate_noisy_nonlinear_data(N):\n",
    "    D = []\n",
    "    for _ in range(0,N):\n",
    "        x1 = random() * (-1) ** randint(0,1)\n",
    "        x2 = random() * (-1) ** randint(0,1)\n",
    "        y  = 1\n",
    "        if ((x1 ** 2 + x2 ** 2 - 0.6) < 0):\n",
    "            y = -1\n",
    "        if(random() <= 0.1):   # we flip the point sign 10% of the time\n",
    "            if y == 1:\n",
    "                y = -1\n",
    "            else:\n",
    "                y = 1\n",
    "        D.insert(0,(x1, x2, y))\n",
    "    return D\n",
    "\n",
    "Ein = []\n",
    "\n",
    "N = 1000\n",
    "\n",
    "k = 100\n",
    "\n",
    "for _ in range(0,k):\n",
    "    D = generate_noisy_nonlinear_data(N)\n",
    "\n",
    "    (w0, w1, w2) = LRA(D)\n",
    "    \n",
    "    misclassified = 0\n",
    "\n",
    "    for i in range(0,N):\n",
    "        x1 = D[i][0]\n",
    "        x2 = D[i][1]\n",
    "        y  = D[i][2]\n",
    "                \n",
    "        dot_prod = w2 * x2 + w1 * w1 + w0\n",
    "        \n",
    "        if (((y == 1) and (dot_prod < 0)) or ((y == -1) and (dot_prod > 0))):\n",
    "          misclassified += 1/N\n",
    "   \n",
    "    Ein.insert(0, misclassified)\n",
    "\n",
    "mean = stat.mean(Ein)\n",
    "stddev = stat.stdev(Ein)\n",
    "\n",
    "print('For ' + str(k) + ' executions the average Ein(g) is:')\n",
    "print('Mean = %.4f' % mean)\n",
    "print('Deviation = %.4f' % stddev)"
   ]
  },
  {
   "cell_type": "markdown",
   "metadata": {},
   "source": [
    "### Exercise 9.\n",
    "\n",
    "Given the high in-sample error of the previous exercise, we will now apply a nonlinear transformation in our data."
   ]
  },
  {
   "cell_type": "code",
   "execution_count": 12,
   "metadata": {},
   "outputs": [
    {
     "name": "stdout",
     "output_type": "stream",
     "text": [
      "Estimated function:\n",
      "(-0.992) + (-0.001)x1 + (-0.001)x2 + (0.002)x1x2 + (1.558)x1^2 + (1.557)x2^2\n"
     ]
    }
   ],
   "source": [
    "# This method receives a dataset with features (1, x1, x2) and transforms each feature into a feature vector:\n",
    "# \n",
    "#  (1, x1, x2, x1 * x2, x1^2, x^2)\n",
    "#\n",
    "# The yielded dataset, Dz, is then returned.\n",
    "#\n",
    "def nonlinear_transformation(D):\n",
    "    Dz = []    \n",
    "    #\n",
    "    # Observe that x0 is added within the previous LRA code, and the last element of the tuple is the label.\n",
    "    #\n",
    "    for i in range(0, len(D)):\n",
    "        Dz.insert(0,(D[i][0], D[i][1], D[i][0] * D[i][1], D[i][0] ** 2, D[i][1] ** 2, D[i][2]))\n",
    "    \n",
    "    return(Dz)\n",
    "\n",
    "k = 1000   # number of runs.\n",
    "\n",
    "N = 1000\n",
    "\n",
    "avg_w = [0, 0, 0, 0, 0, 0]\n",
    "    \n",
    "for _ in range(0,k):\n",
    "    D = generate_noisy_nonlinear_data(N)\n",
    "    Dz = nonlinear_transformation(D)\n",
    "    w = LRA(Dz)\n",
    "    for i in range(0,6):\n",
    "        avg_w[i] += w[i] / k\n",
    "\n",
    "print ('Estimated function:')\n",
    "print ('(%.3f) + (%.3f)x1 + (%.3f)x2 + (%.3f)x1x2 + (%.3f)x1^2 + (%.3f)x2^2' % (avg_w[0], avg_w[1], avg_w[2], avg_w[3], avg_w[4], avg_w[5]))"
   ]
  },
  {
   "cell_type": "markdown",
   "metadata": {},
   "source": [
    "### Exercise 10.\n",
    "\n",
    "Finally, let's try to classify using our fancy nonlinear transformation:"
   ]
  },
  {
   "cell_type": "code",
   "execution_count": 10,
   "metadata": {},
   "outputs": [
    {
     "name": "stdout",
     "output_type": "stream",
     "text": [
      "For 100 executions the average Eout(g) is:\n",
      "Mean = 0.1247\n",
      "Deviation = 0.0122\n"
     ]
    }
   ],
   "source": [
    "Eout = []\n",
    "\n",
    "N = 1000\n",
    "\n",
    "k = 100\n",
    "\n",
    "for _ in range(0,k):\n",
    "    D = generate_noisy_nonlinear_data(N)\n",
    "    Dz = nonlinear_transformation(D)\n",
    "    w = LRA(Dz)\n",
    "\n",
    "    misclassified = 0\n",
    "    \n",
    "    for i in range(0,N):\n",
    "        \n",
    "        dot_prod = w[0] + w[1] * D[i][0] + w[2] * D[i][1] + w[3] * D[i][0] * D[i][1] + w[4] * D[i][0]**2 + w[5] * D[i][1]**2 \n",
    "        \n",
    "        y = D[i][2]\n",
    "        \n",
    "        if (((y == 1) and (dot_prod < 0)) or ((y == -1) and (dot_prod > 0))):\n",
    "          misclassified += 1 / N\n",
    "   \n",
    "    Eout.insert(0, misclassified)\n",
    "\n",
    "mean = stat.mean(Eout)\n",
    "stddev = stat.stdev(Eout)\n",
    "\n",
    "print('For ' + str(k) + ' executions the average Eout(g) is:')\n",
    "print('Mean = %.4f' % mean)\n",
    "print('Deviation = %.4f' % stddev)"
   ]
  }
 ],
 "metadata": {
  "kernelspec": {
   "display_name": "Python 3",
   "language": "python",
   "name": "python3"
  },
  "language_info": {
   "codemirror_mode": {
    "name": "ipython",
    "version": 3
   },
   "file_extension": ".py",
   "mimetype": "text/x-python",
   "name": "python",
   "nbconvert_exporter": "python",
   "pygments_lexer": "ipython3",
   "version": "3.6.9"
  }
 },
 "nbformat": 4,
 "nbformat_minor": 2
}
